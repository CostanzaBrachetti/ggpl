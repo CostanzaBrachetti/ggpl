{
 "cells": [
  {
   "cell_type": "markdown",
   "metadata": {
    "collapsed": false
   },
   "source": [
    "# My house modeling\n",
    "\n",
    "[\"Planimetria di riferimento\"](https://github.com/CostanzaBrachetti/ggpl/blob/master/2016-12-02/esempio.jpg)\n",
    "\n",
    "Tramite inkscape genero 5 file, uno per le linee dei muri esterni, uno per le linee dei muri interni, uno per le porte interne, uno per quella esterna, ed infine uno per le finestre.\n",
    "Il metodo creaPlanimetria si occupa di prendere il file della struttura esterna e di crearla, successivamente richiama tutti gli altri metodi come strutturaInterna() (che si occupa,dato il file delle linee della struttura interna, di costruirla e restituirla). Allo stesso modo operano i metodi porteInterne(), creaFinestra(), creaPortaEsterna(). \n",
    "Per quanto riguarda le porte e le finestre una volta create viene fatta la DIFFERENCE per ricavare lo spazio dove poterle inserire. \n",
    "per quanto riguarda il pavimento ho utilizzato le due liste di punti FV e V per poter richiamare il metodo EXPLODE per collegare tutti i vertici della base. Tuttavia ottenevo un difetto che ho dovuto rimuovere manualmente con l'ausilio di una struttura, chiamata appunto difetto, che mi è servita a fare la difference su un pezzo di pavimento di troppo. "
   ]
  },
  {
   "cell_type": "code",
   "execution_count": null,
   "metadata": {
    "collapsed": true
   },
   "outputs": [],
   "source": [
    "from pyplasm import*\n",
    "from larlib import*\n",
    "import csv"
   ]
  },
  {
   "cell_type": "code",
   "execution_count": 79,
   "metadata": {
    "collapsed": true
   },
   "outputs": [],
   "source": [
    "def stringToFloat(str):\n",
    "    l = str.split(',')\n",
    "    newList=[]\n",
    "    for c in l:\n",
    "        elem = float(c)/20.\n",
    "        newList.append(elem)\n",
    "    return newList"
   ]
  },
  {
   "cell_type": "code",
   "execution_count": 80,
   "metadata": {
    "collapsed": true
   },
   "outputs": [],
   "source": [
    "def porteInterne(file_name):\n",
    "    porte = STRUCT([QUOTE([0])])\n",
    "    with open(file_name,'r') as csvFile:\n",
    "        reader = csv.reader(csvFile, delimiter=' ', quotechar='|')\n",
    "        for row in reader:\n",
    "            l = stringToFloat(row[0])\n",
    "            riga = MKPOL([[[l[0],l[1],0],[l[2],l[3],0]],[[1,2]],1])\n",
    "            porte = STRUCT([porte,riga])\n",
    "        porte = OFFSET([0.15,0.15,0])(porte)\n",
    "        porte = OFFSET([-0.10,0,2])(porte)\n",
    "    return porte"
   ]
  },
  {
   "cell_type": "code",
   "execution_count": 81,
   "metadata": {
    "collapsed": true
   },
   "outputs": [],
   "source": [
    "def strutturaInterna(file_name):\n",
    "    interni = STRUCT([QUOTE([0])])\n",
    "    with open(file_name,'r') as csvFile:\n",
    "        reader = csv.reader(csvFile, delimiter=' ', quotechar='|')\n",
    "        for row in reader:\n",
    "            l = stringToFloat(row[0])\n",
    "            riga = MKPOL([[[l[0],l[1],0],[l[2],l[3],0]],[[1,2]],1])\n",
    "            interni = STRUCT([interni,riga])\n",
    "        interni = OFFSET([0.1,0.1,2.5])(interni)\n",
    "    return interni"
   ]
  },
  {
   "cell_type": "code",
   "execution_count": 83,
   "metadata": {
    "collapsed": false
   },
   "outputs": [],
   "source": [
    "def creaFinestre(file_name): \n",
    "    spazioFinestre = STRUCT([QUOTE([0])])\n",
    "    with open(file_name,'r') as csvFile:\n",
    "        reader = csv.reader(csvFile, delimiter=' ', quotechar='|')\n",
    "        for row in reader:\n",
    "            l = stringToFloat(row[0])\n",
    "            riga = MKPOL([[[l[0],l[1],0],[l[2],l[3],0]],[[1,2]],1])\n",
    "            spazioFinestre = STRUCT([spazioFinestre,riga])  \n",
    "    spazioFinestre = T(3)(0.7)(spazioFinestre)\n",
    "    spazioFinestre = OFFSET([-0.02,-0.01,0])(spazioFinestre)\n",
    "    spazioFinestre = OFFSET([0.3,0.3,1.3])(spazioFinestre)\n",
    "    return spazioFinestre"
   ]
  },
  {
   "cell_type": "code",
   "execution_count": 84,
   "metadata": {
    "collapsed": true
   },
   "outputs": [],
   "source": [
    "def creaPortaEsterna(file_name):\n",
    "    porta = STRUCT([QUOTE([0])])\n",
    "    with open(file_name,'r') as csvFile:\n",
    "        reader = csv.reader(csvFile, delimiter=' ', quotechar='|')\n",
    "        for row in reader:\n",
    "            l = stringToFloat(row[0])\n",
    "            riga = MKPOL([[[l[0],l[1],0],[l[2],l[3],0]],[[1,2]],1])\n",
    "            porta = STRUCT([porta,riga]) \n",
    "    porta = OFFSET([0.32,0.1,2])(porta)\n",
    "    pomello = SPHERE(0.03)([100,100])\n",
    "    pomello = T([1,2,3])([l[0],l[1],1.4])(pomello)\n",
    "    return porta"
   ]
  },
  {
   "cell_type": "code",
   "execution_count": 85,
   "metadata": {
    "collapsed": true
   },
   "outputs": [],
   "source": [
    "def lunghezzaCella(lista):\n",
    "    newLista = []\n",
    "    for i in range(len(lista)):\n",
    "        newLista.append(i+1)\n",
    "    return newLista    "
   ]
  },
  {
   "cell_type": "code",
   "execution_count": 86,
   "metadata": {
    "collapsed": false
   },
   "outputs": [],
   "source": [
    "def creaPavimento(file_name):\n",
    "    pavimento = STRUCT([QUOTE([0])])\n",
    "    with open(file_name,'r') as csvFile:\n",
    "        reader = csv.reader(csvFile, delimiter=' ', quotechar='|')\n",
    "        for row in reader:\n",
    "            l = stringToFloat(row[0])\n",
    "            riga = MKPOL([[[l[0],l[1],0],[l[2],l[3],0]],[[1,2]],1])\n",
    "            pavimento = STRUCT([pavimento,riga])\n",
    "    listaPunti = UKPOL(pavimento)\n",
    "    V = listaPunti[0]\n",
    "    EV = listaPunti[1]\n",
    "    FV = []\n",
    "    for i in range(1,len(V)):\n",
    "        FV.append(i)\n",
    "    FV = [FV]\n",
    "    pavimento = EXPLODE(1,1,1)(MKPOLS((V,FV)))\n",
    "    pavimento = OFFSET([0,0,0.1])(pavimento)\n",
    "    V = [[0,0],[15,22],[0,22]]\n",
    "    EV = [[0,2],[2,1],[1,0]]\n",
    "    FV = [[0,1,2]]\n",
    "    difetto = EXPLODE(1.2,1.2,1.2)(MKPOLS((V,FV)))\n",
    "    difetto = T([1,2])([21,0.8])(difetto)\n",
    "    difetto = OFFSET([0,0,0.1])(difetto)\n",
    "    \n",
    "    pavimento = DIFFERENCE([pavimento,difetto])\n",
    "    return pavimento"
   ]
  },
  {
   "cell_type": "code",
   "execution_count": 87,
   "metadata": {
    "collapsed": false
   },
   "outputs": [],
   "source": [
    "def creaPlanimetria(file_name):\n",
    "    planimetria = STRUCT([QUOTE([0])])\n",
    "    with open(file_name,'r') as csvFile:\n",
    "        reader = csv.reader(csvFile, delimiter=' ', quotechar='|')\n",
    "        for row in reader:\n",
    "            l = stringToFloat(row[0])\n",
    "            riga = MKPOL([[[l[0],l[1],0],[l[2],l[3],0]],[[1,2]],1])\n",
    "            planimetria= STRUCT([planimetria,riga])\n",
    "    planimetria = OFFSET([0.3,0.3,2.5])(planimetria)\n",
    "    interni = strutturaInterna(\"interni.lines\")\n",
    "    spazioFinestre = creaFinestre(\"finestre.lines\")\n",
    "    porte = porteInterne(\"porteInterne.lines\")\n",
    "    pavimento = creaPavimento(\"muriEsterni.lines\")\n",
    "    portaEsterna = creaPortaEsterna(\"portaEsterna.lines\")\n",
    "    interni = DIFFERENCE([interni,porte])\n",
    "    planimetria = DIFFERENCE([planimetria,spazioFinestre])\n",
    "    planimetria = DIFFERENCE([planimetria,portaEsterna])\n",
    "    portaEsterna = COLOR(Color4f([128/255.,0,0,1]))(portaEsterna)\n",
    "    spazioFinestre = COLOR(Color4f([0,1,1,1]))(spazioFinestre)\n",
    "    interni = COLOR(Color4f([205/255.,127/255.,50/255.,1]))(interni)\n",
    "    planimetria = COLOR(Color4f([205/255.,127/255.,50/255.,1]))(planimetria)\n",
    "    pavimento = COLOR(Color4f([1,228/255.,196/255.,1]))(pavimento)\n",
    "    planimetria = STRUCT([planimetria,interni,spazioFinestre,pavimento,portaEsterna])\n",
    "    VIEW(planimetria)"
   ]
  },
  {
   "cell_type": "code",
   "execution_count": 88,
   "metadata": {
    "collapsed": false
   },
   "outputs": [
    {
     "name": "stdout",
     "output_type": "stream",
     "text": [
      "Child 3\n"
     ]
    }
   ],
   "source": [
    "creaPlanimetria(\"muriEsterni.lines\")\n",
    "#creaFinestre(\"finestre.lines\")\n",
    "#creaPavimento(\"muriEsterni.lines\")"
   ]
  }
 ],
 "metadata": {
  "kernelspec": {
   "display_name": "Python 2",
   "language": "python",
   "name": "python2"
  },
  "language_info": {
   "codemirror_mode": {
    "name": "ipython",
    "version": 2
   },
   "file_extension": ".py",
   "mimetype": "text/x-python",
   "name": "python",
   "nbconvert_exporter": "python",
   "pygments_lexer": "ipython2",
   "version": "2.7.12"
  }
 },
 "nbformat": 4,
 "nbformat_minor": 1
}
