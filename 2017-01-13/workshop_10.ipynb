{
 "cells": [
  {
   "cell_type": "markdown",
   "metadata": {
    "collapsed": false
   },
   "source": [
    "# My house\n",
    "\n",
    "In questo workshop ho creato due tipi di case, una a un piano e una a due piani.\n",
    "Per la casa a due piani ho costruito una scala interna. Per le dimensioni della scala mi sono creata una funzione larghezzaScala, che tramite i punti presi dal modello costruito su InkScape, calcola la x della scala. L'altezza è la stessa dei muri del modello da me costruito. \n",
    "Per costruire il tetto ho effettuato una pulizia del file della planimetria.lines andando a prendermi solo i vertici esterni per poi tirare su il tetto. \n",
    "La funzione creaTetto è replicata sia nel creaPlanimetria2, dove costruisco l'eventuale secondo piano, sia nel file principale dove considero che dopo il piano terra non ce ne sia un altro. \n",
    "La porta esterna, le finestre, il tetto ed i muri li ho colorati utilizzando delle texture, mentre per i muri interni, le porte interne ed il pavimento ho utilizzato dei colori semplici.\n",
    "I metodi creaPlanimetria1 e creaPlanimetria2 hanno gli stessi metodi ma lavorano sui .lines dei due piani differenti.\n",
    "\n",
    "[\"Casa due piani\"](https://github.com/CostanzaBrachetti/ggpl/blob/master/immagini/casa1.png)\n",
    "\n",
    "[\"Scale interne\"](https://github.com/CostanzaBrachetti/ggpl/blob/master/immagini/casa3.png)\n",
    "\n",
    "[\"Interno secondo piano\"](https://github.com/CostanzaBrachetti/ggpl/blob/master/immagini/internocasa.png)"
   ]
  },
  {
   "cell_type": "code",
   "execution_count": 1,
   "metadata": {
    "collapsed": false
   },
   "outputs": [
    {
     "name": "stdout",
     "output_type": "stream",
     "text": [
      "Evaluating fenvs.py..\n",
      "...fenvs.py imported in 0.00627331646765 seconds\n"
     ]
    },
    {
     "name": "stderr",
     "output_type": "stream",
     "text": [
      "c:\\program files\\python27\\lib\\site-packages\\larlib\\larstruct.py:233: FutureWarning: comparison to `None` will result in an elementwise object comparison in the future.\n",
      "  self.body = [item for item in data if item != None]\n"
     ]
    }
   ],
   "source": [
    "from pyplasm import*\n",
    "from creaPiano1 import*\n",
    "from creaPiano2 import*\n",
    "from traslaScala import*\n",
    "import csv"
   ]
  },
  {
   "cell_type": "code",
   "execution_count": 2,
   "metadata": {
    "collapsed": false
   },
   "outputs": [],
   "source": [
    "def casaDuePiani():\n",
    "    pianoTerra = creaPlanimetria1(\"muriEst.lines\")\n",
    "    dxScala = larghezzaScala()\n",
    "    scala = ggpl_My_Stair_Type(dxScala,7.2,3) \n",
    "    scalaTraslata = puntiScala(scala)\n",
    "    scalaTraslata = T([1,2])([-0.4,0.8])(scalaTraslata)\n",
    "    secondoPiano = creaPlanimetria2(\"muriEst.lines\")\n",
    "    struttura = STRUCT([pianoTerra,secondoPiano,scalaTraslata])\n",
    "    primopiano = STRUCT([pianoTerra,scalaTraslata])\n",
    "    difetto = CUBOID([1,1,3])\n",
    "    VIEW(struttura)"
   ]
  },
  {
   "cell_type": "code",
   "execution_count": 3,
   "metadata": {
    "collapsed": true
   },
   "outputs": [],
   "source": [
    "def creaTetto(file_name):\n",
    "    planimetria = STRUCT([QUOTE([0])])\n",
    "    with open(file_name,'r') as csvFile:\n",
    "        reader = csv.reader(csvFile, delimiter=' ', quotechar='|')\n",
    "        for row in reader:\n",
    "            l = stringToFloat(row[0])\n",
    "            riga = MKPOL([[[l[0],l[1],0],[l[2],l[3],0]],[[1,2]],1])\n",
    "            planimetria = STRUCT([planimetria,riga]) \n",
    "    listaPunti = UKPOL(planimetria)\n",
    "    V = listaPunti[0]\n",
    "    lista = pulisciLista(V)\n",
    "    EV = listaPunti[1]\n",
    "    FV = []\n",
    "    for i in range(1,len(V)):\n",
    "        FV.append(i)\n",
    "    FV = [FV]\n",
    "    pavimento = EXPLODE(1,1,1)(MKPOLS((V,FV)))\n",
    "   \n",
    "    tetto = MKPOL([[[3,42,0],[32,42,0],[32,11,0],[3,11,0],[10,35,4],[25,35,4],[25,18,4],[10,18,4]],[[1,2,6,5],[2,3,7,6],[3,4,8,7],                [1,5,8,4],[5,6,7,8]],1])\n",
    "    tetto = OFFSET([0.2,0.2,0.2])(tetto)\n",
    "    tetto = T([1,2])([0.5,0.2])(tetto)\n",
    "    pavimento = OFFSET([0.2,0.2,0.1])(pavimento)\n",
    "    tetto = TEXTURE([\"textureTetto.jpg\",True,False,1,1,0,3,3])(tetto)\n",
    "    tetto = MATERIAL([84,42,12,1,  0,0,0,1,  0,0,0,1, 0,0,0,1, 1])(tetto)\n",
    "    tetto = STRUCT([pavimento,tetto])\n",
    "    tetto = T(3)(3)(tetto)\n",
    "    return tetto"
   ]
  },
  {
   "cell_type": "code",
   "execution_count": 4,
   "metadata": {
    "collapsed": true
   },
   "outputs": [],
   "source": [
    "def casaUnPiano():\n",
    "    pianoTerra = creaPlanimetria1(\"muriEst.lines\")\n",
    "    tetto = creaTetto(\"muriEst.lines\")\n",
    "    casa = STRUCT([pianoTerra,tetto])\n",
    "    VIEW(casa)"
   ]
  },
  {
   "cell_type": "code",
   "execution_count": 5,
   "metadata": {
    "collapsed": false
   },
   "outputs": [
    {
     "name": "stdout",
     "output_type": "stream",
     "text": [
      "(28.285715103149414, 28.046682357788086)\n"
     ]
    }
   ],
   "source": [
    "casaDuePiani()"
   ]
  }
 ],
 "metadata": {
  "kernelspec": {
   "display_name": "Python 2",
   "language": "python",
   "name": "python2"
  },
  "language_info": {
   "codemirror_mode": {
    "name": "ipython",
    "version": 2
   },
   "file_extension": ".py",
   "mimetype": "text/x-python",
   "name": "python",
   "nbconvert_exporter": "python",
   "pygments_lexer": "ipython2",
   "version": "2.7.12"
  }
 },
 "nbformat": 4,
 "nbformat_minor": 1
}
