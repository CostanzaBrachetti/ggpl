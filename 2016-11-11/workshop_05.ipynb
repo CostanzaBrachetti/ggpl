{
 "cells": [
  {
   "cell_type": "markdown",
   "metadata": {
    "collapsed": false
   },
   "source": [
    "\n",
    "\n"
   ]
  },
  {
   "cell_type": "markdown",
   "metadata": {
    "collapsed": false
   },
   "source": [
    "# My_school_forniture "
   ]
  },
  {
   "cell_type": "markdown",
   "metadata": {},
   "source": [
    "Il metodo creaOggetti() serve a settare la giusta dimensione dei mobili che si troveranno dentro la scuola, crea inoltre una mappa che associa ad ogni indice il nome di un mobile. associaOggetti() scorre la mappa crea nel metodo precedente e chiama il metodo creaOggetti() che sulla base della stringa che gli viene passata crea il mobile corrispondente.\n",
    "I quattro metodi che seguono servono a creare i singoli mobili tenendo conto dei valori settati dentro coordinateOggetti. Infine nell'ultimo metodo, my_school_forniture(), sono andata a creare una piccola aula composta da una cattedra con sedia, un banco con due sedie e una libreria. Allego anche l'immagine del risultato complessivo."
   ]
  },
  {
   "cell_type": "code",
   "execution_count": null,
   "metadata": {
    "collapsed": true
   },
   "outputs": [],
   "source": [
    "from pyplasm import* "
   ]
  },
  {
   "cell_type": "code",
   "execution_count": 132,
   "metadata": {
    "collapsed": true
   },
   "outputs": [],
   "source": [
    "def coordinateOggetti():\n",
    "    indice2oggetto = {0:\"banco\",1:\"sedia\",2:\"cattedra\",3:\"libreria\"}\n",
    "    dx = [1.4,0.4,2,1.5]\n",
    "    dy = [1,0.4,1.2,0.3]\n",
    "    dz = [0.72,0.4,0.7,2]\n",
    "    return ([dx,dy,dz,indice2oggetto])"
   ]
  },
  {
   "cell_type": "code",
   "execution_count": 133,
   "metadata": {
    "collapsed": true
   },
   "outputs": [],
   "source": [
    "def associaOggetti():\n",
    "    dx = coordinateOggetti()[0]\n",
    "    dy = coordinateOggetti()[1]\n",
    "    dz = coordinateOggetti()[2]\n",
    "    mappa = coordinateOggetti()[3]\n",
    "    for i,nome in mappa.items():\n",
    "        oggetto = creaOggetto(nome,dx[i],dy[i],dz[i])\n",
    "    "
   ]
  },
  {
   "cell_type": "code",
   "execution_count": 134,
   "metadata": {
    "collapsed": true
   },
   "outputs": [],
   "source": [
    "def creaOggetto(nome,x,y,z):\n",
    "    if nome == \"banco\":\n",
    "        return creaBanco(x,y,z)\n",
    "    if nome == \"sedia\":\n",
    "        return creaSedia(x,y,z)\n",
    "    if nome == \"cattedra\":\n",
    "        return creaCattedra(x,y,z)\n",
    "    if nome == \"libreria\":\n",
    "        return creaLibreria(x,y,z)\n",
    "    "
   ]
  },
  {
   "cell_type": "code",
   "execution_count": 135,
   "metadata": {
    "collapsed": false
   },
   "outputs": [],
   "source": [
    "def creaBanco(x,y,z):\n",
    "    baseBanco = MKPOL([[[0,0,z],[x,0,z],[0,y,z],[x,y,z]],[[1,2,3,4]],1])\n",
    "    baseBanco = SKEL_1(baseBanco)\n",
    "    baseBanco = OFFSET([.05,0.05,0.05])(baseBanco)\n",
    "    gambeBanco = MKPOL([[[0,0,0],[0,0,z],[0,y,0],[0,y,z],[x,y,0],[x,y,z],[x,0,0],[x,0,z]],[[1,2],[3,4],[5,6],[7,8]],1])\n",
    "    gambeBanco = OFFSET([0.05,0.05,0.05])(gambeBanco)\n",
    "    baseBanco = STRUCT([baseBanco,gambeBanco])\n",
    "    colore = Color4f([204/255.,152/255.,102/255.,1])\n",
    "    tavolo = MKPOL([[[0,0,z+0.05],[x,0,z+0.05],[0,y,z+0.05],[x,y,z+0.05]],[[1,2,3,4]],1])\n",
    "    tavolo = OFFSET([.05,0.05,0.05])(tavolo)\n",
    "    banco = STRUCT([baseBanco,tavolo])\n",
    "    banco = COLOR(colore)(banco)\n",
    "    return banco\n",
    "    #VIEW(banco) "
   ]
  },
  {
   "cell_type": "code",
   "execution_count": 136,
   "metadata": {
    "collapsed": true
   },
   "outputs": [],
   "source": [
    "def creaSedia(x,y,z):\n",
    "    baseSedia = MKPOL([[[0,0,z],[x,0,z],[0,y,z],[x,y,z]],[[1,2,3,4]],1])\n",
    "    baseSedia = SKEL_1(baseSedia)\n",
    "    baseSedia = OFFSET([.03,0.03,0.03])(baseSedia)\n",
    "    gambeSedia = MKPOL([[[0,0,0],[0,0,z],[0,y,0],[0,y,z],[x,y,0],[x,y,z],[x,0,0],[x,0,z]],[[1,2],[3,4],[5,6],[7,8]],1])\n",
    "    gambeSedia = OFFSET([0.03,0.03,0.03])(gambeSedia)\n",
    "    baseSedia = STRUCT([baseSedia,gambeSedia])\n",
    "    colore = Color4f([204/255.,152/255.,102/255.,1])\n",
    "    baseSedia = COLOR(colore)(baseSedia)\n",
    "    sedia = MKPOL([[[0,0,z+0.03],[x,0,z+0.03],[0,y,z+0.03],[x,y,z+0.03]],[[1,2,3,4]],1])\n",
    "    sedia = OFFSET([.03,0.03,0.03])(sedia)\n",
    "    schienaleSedia = MKPOL([[[0,0,z+0.03],[x,0,z+0.03],[0,0,0.8],[x,0,0.8]],[[1,2,3,4]],1])\n",
    "    schienaleSedia = OFFSET([0.03,0.03,0.03])(schienaleSedia)\n",
    "    schienaleSedia = COLOR(colore)(schienaleSedia)\n",
    "    colore = Color4f([152/255.,1,152/255.,1])\n",
    "    sedia = COLOR(WHITE)(sedia)\n",
    "    sedia = STRUCT([baseSedia,sedia,schienaleSedia])\n",
    "    #VIEW(sedia)\n",
    "    return sedia "
   ]
  },
  {
   "cell_type": "code",
   "execution_count": 137,
   "metadata": {
    "collapsed": false
   },
   "outputs": [],
   "source": [
    "def creaCattedra(x,y,z):\n",
    "    baseScrivania = MKPOL([[[0,0,z],[x,0,z],[0,y,z],[x,y,z]],[[1,2,3,4]],1])\n",
    "    baseScrivania = OFFSET([0.2,0.2,0.35])(baseScrivania)\n",
    "    bucoCassetto = CUBOID([.5,0.5,0.25])\n",
    "    bucoCassetto = T([1,2,3])([0.35,y-0.3,z+0.08])(bucoCassetto)\n",
    "    spazioCassetti = STRUCT([bucoCassetto,T(1)(1.05)(bucoCassetto)])\n",
    "    scrivania = DIFFERENCE([baseScrivania,spazioCassetti])\n",
    "    colore = Color4f([205/255.,133/255.,63/255.,1])\n",
    "    scrivania = COLOR(colore)(scrivania)\n",
    "    cassetto = MKPOL([[[0,0,0],[0.5,0,0],[0,0.5,0],[0.5,0.5,0],[0,0,0.25],[0,0.5,0.25],[0.5,0.5,0.25],[0.5,0,0.25]],[[1,2,3,4],[1,5,6,3],[3,6,4,7],[4,2,7,8],[1,5,2,8]],1])\n",
    "    cassetto = T([1,2,3])([0.35,y-0.3,z+0.08])(cassetto)\n",
    "    cassetti =  STRUCT([cassetto,T(1)(1.05)(cassetto)])\n",
    "    coloreCassetti = Color4f([153/255.,51/255.,0,1])\n",
    "    cassetti = COLOR(coloreCassetti)(cassetti)\n",
    "    pomello = SPHERE(0.03)([100,100])\n",
    "    pomello = T([1,2,3])([0.1,y-0.28,z+0.08])(pomello)\n",
    "    pomello = T([1,2,3])([0.5,0.5,0.12])(pomello)\n",
    "    pomelli = STRUCT([pomello,T(1)(1.05)(pomello)])\n",
    "    pomelli = COLOR(WHITE)(pomelli)\n",
    "    #scrivania = STRUCT([scrivania,cassetti,pomelli])\n",
    "    gambeScrivania = MKPOL([[[0,0,0],[0,0,z],[x,0,0],[x,0,z],[0,y,0],[0,y,z],[x,y,0],[x,y,z]],[[1,2],[3,4],[5,6],[7,8],[9,10]],1])\n",
    "    gambeScrivania = OFFSET([0.2,0.2,0.2])(gambeScrivania)\n",
    "    gambeScrivania = COLOR(colore)(gambeScrivania)\n",
    "    scrivania = STRUCT([scrivania,cassetti,pomelli,gambeScrivania])\n",
    "    scrivania = S([1,2,3])([0.9,0.9,0.9])(scrivania)\n",
    "    #VIEW(scrivania)\n",
    "    return scrivania"
   ]
  },
  {
   "cell_type": "code",
   "execution_count": 138,
   "metadata": {
    "collapsed": false
   },
   "outputs": [],
   "source": [
    "def creaLibreria(x,y,z):\n",
    "    libreria = MKPOL([[[0,0,0],[x,0,0],[0,y,0],[x,y,0],[0,0,z],[x,0,z],[0,y,z],[x,y,z]],[[1,3,5,7],[1,2,5,6],[5,6,7,8],[1,2,3,4],[4,2,6,8]],1])\n",
    "    libreria = OFFSET([0.05,0.05,0.05])(libreria)\n",
    "    scaffale = CUBOID([x-0.05,y,0.05])\n",
    "    scaffaLe = OFFSET([-0.2,-0.2,-0.2])\n",
    "    scaffale = T([1,2,3])([0.05,0.05,0.45])(scaffale)\n",
    "    scaffali = STRUCT([scaffale,T(3)(0.3)(scaffale)])\n",
    "    scaffali = STRUCT([scaffali,T(3)(0.3)(scaffali)])\n",
    "    scaffali = STRUCT([scaffali,T(3)(0.3)(scaffali)])\n",
    "    scaffali = STRUCT([scaffali,T(3)(0.3)(scaffali)])\n",
    "    libreria = STRUCT([libreria,scaffali])\n",
    "    colore = Color4f([240/255.,220/255.,130/255.,1])\n",
    "    libreria = COLOR(colore)(libreria)\n",
    "    return libreria\n",
    "    "
   ]
  },
  {
   "cell_type": "code",
   "execution_count": 139,
   "metadata": {
    "collapsed": true
   },
   "outputs": [],
   "source": [
    "def my_school_forniture():\n",
    "    dx = coordinateOggetti()[0]\n",
    "    dy = coordinateOggetti()[1]\n",
    "    dz = coordinateOggetti()[2]\n",
    "    banco = creaOggetto(\"banco\",dx[0],dy[0],dz[0])\n",
    "    #VIEW(banco)\n",
    "    sedia = creaOggetto(\"sedia\",dx[1],dy[1],dz[1])\n",
    "    sedia = T([1,2])([dx[0]-dx[1]-0.1,dy[0]])(sedia)\n",
    "    sedia = R([1,2])(PI)(sedia)\n",
    "    sedia = T([1,2])([dx[0]+0.75,dy[0]+1.2])(sedia)\n",
    "    sedie = STRUCT([sedia, T(1)(-0.6)(sedia)])\n",
    "    banco = STRUCT([banco,sedie])\n",
    "    banco = T(2)(3)(banco)\n",
    "    banchi = STRUCT([banco, T(1)(2.3)(banco)])\n",
    "    cattedra = creaOggetto(\"cattedra\",dx[2],dy[2],dz[2])\n",
    "    cattedra = R([1,2])(PI)(cattedra)\n",
    "    cattedra = T([1,2])([3,2])(cattedra)\n",
    "    sediaCattedra = creaOggetto(\"sedia\",dx[1],dy[1],dz[1])\n",
    "    #sediaCattedra = S([1,2,3])([1.7,1.7,1.7])(sediaCattedra)\n",
    "    sediaCattedra = T([1,2])([1.6,0.3])(sediaCattedra)\n",
    "    #sediaCattedra = R([1,2])(PI)(sediaCattedra)\n",
    "    scuola = STRUCT([banchi,cattedra])\n",
    "    cattedraFinale = STRUCT([cattedra,sediaCattedra])\n",
    "    pavimento = MKPOL([[[0,0,0],[5,0,0],[0,7,0],[5,7,0]],[[1,2,3,4]],1])\n",
    "    pavimento = COLOR(BLUE)(pavimento)\n",
    "    libreria = creaOggetto(\"libreria\",dx[3],dy[3],dz[3])\n",
    "    libreria = R([1,2])(PI/2)(libreria)\n",
    "    libreria = T([1,2])([5,5])(libreria)\n",
    "    scuola = STRUCT([scuola,cattedraFinale,pavimento,libreria])\n",
    "    VIEW(scuola)\n",
    "    "
   ]
  },
  {
   "cell_type": "code",
   "execution_count": 140,
   "metadata": {
    "collapsed": false
   },
   "outputs": [
    {
     "name": "stdout",
     "output_type": "stream",
     "text": [
      "Child 3\n"
     ]
    }
   ],
   "source": [
    "my_school_forniture()"
   ]
  }
 ],
 "metadata": {
  "kernelspec": {
   "display_name": "Python 2",
   "language": "python",
   "name": "python2"
  },
  "language_info": {
   "codemirror_mode": {
    "name": "ipython",
    "version": 2
   },
   "file_extension": ".py",
   "mimetype": "text/x-python",
   "name": "python",
   "nbconvert_exporter": "python",
   "pygments_lexer": "ipython2",
   "version": "2.7.12"
  }
 },
 "nbformat": 4,
 "nbformat_minor": 1
}
