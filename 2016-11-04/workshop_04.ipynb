{
 "cells": [
  {
   "cell_type": "code",
   "execution_count": 25,
   "metadata": {
    "collapsed": false
   },
   "outputs": [],
   "source": [
    "from pyplasm import*"
   ]
  },
  {
   "cell_type": "code",
   "execution_count": 26,
   "metadata": {
    "collapsed": false
   },
   "outputs": [],
   "source": [
    "def creaForma():\n",
    "    forma = (MKPOL([[[0,0,0],[0,10,0],[10,10,0],[10,0,0],[2,3.5,4],[2,6.5,4],[8,3.5,4],[8,6.5,4]],[[1,2,5,6],[1,4,5,7],[4,3,7,8],[2,6,8,3],[5,6,7,8]],1]))\n",
    "    return forma"
   ]
  },
  {
   "cell_type": "code",
   "execution_count": 27,
   "metadata": {
    "collapsed": true
   },
   "outputs": [],
   "source": [
    "def creaForma1():\n",
    "    forma1 = (MKPOL([[[0,0,0],[5,0,0],[5,10,0],[0,10,0],[1.5,2.5,2.5],[3.5,2.5,2.5],[3.5,7.5,2.5],[1.5,7.5,2.5],[2.5,5,3.5]],[[1,2,5,6],[1,4,5,8],[4,3,7,8],[2,3,6,7],[5,6,9],[7,8,9],[5,8,9],[6,7,9]],1]))\n",
    "    forma1 = OFFSET([0,0,0.1])(forma1)\n",
    "    return forma1"
   ]
  },
  {
   "cell_type": "code",
   "execution_count": 28,
   "metadata": {
    "collapsed": true
   },
   "outputs": [],
   "source": [
    "def lunghezzaCella(lista):\n",
    "    newLista = []\n",
    "    for i in range(len(lista)):\n",
    "        newLista.append(i+1)\n",
    "    return newLista    "
   ]
  },
  {
   "cell_type": "code",
   "execution_count": 29,
   "metadata": {
    "collapsed": false
   },
   "outputs": [],
   "source": [
    "def ggpl_my_roof_builder():\n",
    "    forma = creaForma()\n",
    "    listaPunti = UKPOL(forma)\n",
    "    vertici = listaPunti[0]\n",
    "    celle = listaPunti[1]\n",
    "    scheletro = SKEL_1(forma)\n",
    "    scheletro = OFFSET([0.2,0.2,-0.2])(scheletro)\n",
    "    facciate = QUOTE([0])\n",
    "    for i in range(0,len(celle)):\n",
    "        facciata = []\n",
    "        cella = celle[i]\n",
    "        for j in range(0,len(cella)):\n",
    "            indice = cella[j]\n",
    "            vertice = vertici[indice-1]\n",
    "            facciata.append(vertice)\n",
    "        print facciata\n",
    "        lista = lunghezzaCella(facciata)\n",
    "        faccia = (MKPOL([facciata,[lista],None])) \n",
    "        faccia = OFFSET([0.2,0.2,0.2])(faccia)\n",
    "        facciate = STRUCT([facciate,faccia])\n",
    "    scheletro = COLOR(BLACK)(scheletro)\n",
    "    facciate = COLOR(RED)(facciate)\n",
    "    struttura = STRUCT([facciate,scheletro])\n",
    "    VIEW(struttura)\n",
    "    "
   ]
  },
  {
   "cell_type": "code",
   "execution_count": 30,
   "metadata": {
    "collapsed": false
   },
   "outputs": [
    {
     "name": "stdout",
     "output_type": "stream",
     "text": [
      "[[0.0, 10.0, 0.0], [1.999999761581421, 6.5, 4.0], [1.999999761581421, 3.5, 4.0], [0.0, 0.0, 0.0]]\n",
      "[[1.9999998807907104, 3.499999523162842, 4.0], [8.0, 3.499999523162842, 4.0], [10.0, 1.1920928955078125e-07, 0.0], [0.0, 1.1920928955078125e-07, 0.0]]\n",
      "[[10.0, 10.0, 0.0], [8.0, 6.5, 4.0], [8.0, 3.5, 4.0], [10.0, 0.0, 0.0]]\n",
      "[[1.9999998807907104, 6.500000953674316, 4.0], [8.0, 6.500000953674316, 4.0], [10.0, 10.0, 0.0], [0.0, 10.0, 0.0]]\n",
      "[[2.0, 6.5, 4.0], [8.0, 6.5, 4.0], [8.0, 3.5, 4.0], [2.0, 3.5, 4.0]]\n"
     ]
    }
   ],
   "source": [
    "#creaForma()\n",
    "ggpl_my_roof_builder()"
   ]
  }
 ],
 "metadata": {
  "kernelspec": {
   "display_name": "Python 2",
   "language": "python",
   "name": "python2"
  },
  "language_info": {
   "codemirror_mode": {
    "name": "ipython",
    "version": 2
   },
   "file_extension": ".py",
   "mimetype": "text/x-python",
   "name": "python",
   "nbconvert_exporter": "python",
   "pygments_lexer": "ipython2",
   "version": "2.7.12"
  }
 },
 "nbformat": 4,
 "nbformat_minor": 1
}
