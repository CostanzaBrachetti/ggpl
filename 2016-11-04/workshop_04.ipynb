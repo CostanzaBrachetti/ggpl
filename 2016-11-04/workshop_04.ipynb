{
 "cells": [
  {
   "cell_type": "code",
   "execution_count": null,
   "metadata": {
    "collapsed": false
   },
   "outputs": [],
   "source": []
  },
  {
   "cell_type": "code",
   "execution_count": 1,
   "metadata": {
    "collapsed": false
   },
   "outputs": [
    {
     "name": "stdout",
     "output_type": "stream",
     "text": [
      "Evaluating fenvs.py..\n",
      "...fenvs.py imported in 0.00886681012069 seconds\n"
     ]
    }
   ],
   "source": [
    "from pyplasm import*"
   ]
  },
  {
   "cell_type": "code",
   "execution_count": 2,
   "metadata": {
    "collapsed": true
   },
   "outputs": [],
   "source": [
    "def creaForma1():\n",
    "    forma1 = (MKPOL([[[0,0,0],[5,0,0],[5,10,0],[0,10,0],[1.5,2.5,2.5],[3.5,2.5,2.5],[3.5,7.5,2.5],[1.5,7.5,2.5],[2.5,5,3.5]],[[1,2,5,6],[1,4,5,8],[4,3,7,8],[2,3,6,7],[5,6,9],[7,8,9],[5,8,9],[6,7,9]],1]))\n",
    "    forma1 = OFFSET([0,0,0.1])(forma1)\n",
    "    return forma1"
   ]
  },
  {
   "cell_type": "code",
   "execution_count": 3,
   "metadata": {
    "collapsed": true
   },
   "outputs": [],
   "source": [
    "def creaForma():\n",
    "    forma = (MKPOL([[[0,0,0],[0,10,0],[10,10,0],[10,0,0],[2,3.5,4],[2,6.5,4],[8,3.5,4],[8,6.5,4]],[[1,2,5,6],[1,4,5,7],[4,3,7,8],[2,6,8,3],[5,6,7,8]],1]))\n",
    "    forma = OFFSET([0,0,0.1])(forma)\n",
    "    return forma"
   ]
  },
  {
   "cell_type": "code",
   "execution_count": 4,
   "metadata": {
    "collapsed": true
   },
   "outputs": [],
   "source": [
    "def ggpl_my_roof_builder():\n",
    "    forma = creaForma()\n",
    "    scheletro = SKEL_1(forma)\n",
    "    scheletro = OFFSET([0.05,0.05,-0.2])(scheletro)\n",
    "    scheletro = COLOR(BLACK)(scheletro)\n",
    "    forma = STRUCT([T([3,1])([0.11,0.021])(forma)])\n",
    "    forma = COLOR(BLUE)(forma)\n",
    "    tetto = STRUCT([forma,scheletro])\n",
    "    VIEW(tetto)"
   ]
  },
  {
   "cell_type": "code",
   "execution_count": 5,
   "metadata": {
    "collapsed": false
   },
   "outputs": [],
   "source": [
    "ggpl_my_roof_builder()"
   ]
  }
 ],
 "metadata": {
  "kernelspec": {
   "display_name": "Python 2",
   "language": "python",
   "name": "python2"
  },
  "language_info": {
   "codemirror_mode": {
    "name": "ipython",
    "version": 2
   },
   "file_extension": ".py",
   "mimetype": "text/x-python",
   "name": "python",
   "nbconvert_exporter": "python",
   "pygments_lexer": "ipython2",
   "version": "2.7.12"
  }
 },
 "nbformat": 4,
 "nbformat_minor": 1
}
