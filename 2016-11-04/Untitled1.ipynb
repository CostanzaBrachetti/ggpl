{
 "cells": [
  {
   "cell_type": "code",
   "execution_count": null,
   "metadata": {
    "collapsed": false
   },
   "outputs": [],
   "source": []
  },
  {
   "cell_type": "code",
   "execution_count": 168,
   "metadata": {
    "collapsed": false
   },
   "outputs": [],
   "source": [
    "from pyplasm import*"
   ]
  },
  {
   "cell_type": "code",
   "execution_count": 169,
   "metadata": {
    "collapsed": false
   },
   "outputs": [],
   "source": [
    "def creaForma():\n",
    "    forma = (MKPOL([[[0,0,0],[0,10,0],[10,10,0],[10,0,0],[2,3.5,4],[2,6.5,4],[8,3.5,4],[8,6.5,4]],[[1,2,5,6],[1,4,5,7],[4,3,7,8],[2,6,8,3],[5,6,7,8]],1]))\n",
    "    return forma"
   ]
  },
  {
   "cell_type": "code",
   "execution_count": 170,
   "metadata": {
    "collapsed": false
   },
   "outputs": [],
   "source": [
    "def ggpl_my_roof_builder():\n",
    "    forma = creaForma()\n",
    "    listaPunti = UKPOL(forma)\n",
    "    vertici = listaPunti[0]\n",
    "    celle = listaPunti[1]\n",
    "    scheletro = SKEL_1(forma)\n",
    "    scheletro = OFFSET([0.2,0.2,-0.4])(scheletro)\n",
    "    facciata = [[]]\n",
    "    for i in range(0,len(celle)-1):\n",
    "        cella = celle[i]\n",
    "        for j in range(0,len(cella)-1):\n",
    "            indice = cella[j]\n",
    "            vertice = vertici[indice]\n",
    "            facciata.append(vertice)\n",
    "        print facciata\n",
    "        faccia = (MKPOL([facciata,[cella],1]))    \n",
    "    #punti = UKPOL(faccia)\n",
    "    #VIEW(faccia)\n",
    "    forma = OFFSET([0,0,0.1])(forma)     \n",
    "    struttura = STRUCT([forma,scheletro])\n",
    "    #VIEW(struttura)\n",
    "    "
   ]
  },
  {
   "cell_type": "code",
   "execution_count": 171,
   "metadata": {
    "collapsed": false
   },
   "outputs": [
    {
     "name": "stdout",
     "output_type": "stream",
     "text": [
      "[[], [1.999999761581421, 3.5, 4.0], [0.0, 0.0, 0.0], [1.999999761581421, 6.5, 4.0]]\n",
      "[[], [1.999999761581421, 3.5, 4.0], [0.0, 0.0, 0.0], [1.999999761581421, 6.5, 4.0], [10.0, 1.1920928955078125e-07, 0.0], [0.0, 1.1920928955078125e-07, 0.0], [8.0, 3.499999523162842, 4.0]]\n",
      "[[], [1.999999761581421, 3.5, 4.0], [0.0, 0.0, 0.0], [1.999999761581421, 6.5, 4.0], [10.0, 1.1920928955078125e-07, 0.0], [0.0, 1.1920928955078125e-07, 0.0], [8.0, 3.499999523162842, 4.0], [8.0, 3.5, 4.0], [10.0, 0.0, 0.0], [8.0, 6.5, 4.0]]\n",
      "[[], [1.999999761581421, 3.5, 4.0], [0.0, 0.0, 0.0], [1.999999761581421, 6.5, 4.0], [10.0, 1.1920928955078125e-07, 0.0], [0.0, 1.1920928955078125e-07, 0.0], [8.0, 3.499999523162842, 4.0], [8.0, 3.5, 4.0], [10.0, 0.0, 0.0], [8.0, 6.5, 4.0], [10.0, 10.0, 0.0], [0.0, 10.0, 0.0], [8.0, 6.500000953674316, 4.0]]\n"
     ]
    }
   ],
   "source": [
    "#creaForma()\n",
    "ggpl_my_roof_builder()"
   ]
  }
 ],
 "metadata": {
  "kernelspec": {
   "display_name": "Python 2",
   "language": "python",
   "name": "python2"
  },
  "language_info": {
   "codemirror_mode": {
    "name": "ipython",
    "version": 2
   },
   "file_extension": ".py",
   "mimetype": "text/x-python",
   "name": "python",
   "nbconvert_exporter": "python",
   "pygments_lexer": "ipython2",
   "version": "2.7.12"
  }
 },
 "nbformat": 4,
 "nbformat_minor": 1
}
