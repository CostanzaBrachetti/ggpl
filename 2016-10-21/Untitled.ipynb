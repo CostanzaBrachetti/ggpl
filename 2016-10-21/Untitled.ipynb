{
 "cells": [
  {
   "cell_type": "code",
   "execution_count": null,
   "metadata": {
    "collapsed": false
   },
   "outputs": [],
   "source": [
    "from pyplasm import*\n",
    "pilastroX = QUOTE([0.3,0])\n",
    "pilastroY = QUOTE([0.5,0])\n",
    "pilastroZ = QUOTE([0.2,0])\n",
    "pil=PROD([PROD([pilastroX,pilastroY]),pilastroZ])\n",
    "traveZ = QUOTE([0.5,0])\n",
    "traveX = QUOTE([-0.02,0.03,-0.02])\n",
    "traveY = QUOTE([0.05,0])\n",
    "travi = STRUCT([QUOTE([0])])\n",
    "trave = PROD([PROD([traveX,traveY]),traveZ])\n",
    "trave = (R([2,3])(PI/2)(trave))\n",
    "travi = STRUCT([travi,T(2)([0.8,0])(trave)])\n",
    "VIEW(STRUCT([travi,pil]))\n"
   ]
  },
  {
   "cell_type": "code",
   "execution_count": null,
   "metadata": {
    "collapsed": true
   },
   "outputs": [],
   "source": []
  }
 ],
 "metadata": {
  "kernelspec": {
   "display_name": "Python 2",
   "language": "python",
   "name": "python2"
  },
  "language_info": {
   "codemirror_mode": {
    "name": "ipython",
    "version": 2
   },
   "file_extension": ".py",
   "mimetype": "text/x-python",
   "name": "python",
   "nbconvert_exporter": "python",
   "pygments_lexer": "ipython2",
   "version": "2.7.12"
  }
 },
 "nbformat": 4,
 "nbformat_minor": 1
}
