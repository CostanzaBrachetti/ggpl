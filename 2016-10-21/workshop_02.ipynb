{
 "cells": [
  {
   "cell_type": "code",
   "execution_count": 1,
   "metadata": {
    "collapsed": false
   },
   "outputs": [
    {
     "name": "stdout",
     "output_type": "stream",
     "text": [
      "Evaluating fenvs.py..\n",
      "...fenvs.py imported in 0.0081180070173 seconds\n"
     ]
    }
   ],
   "source": [
    "from pyplasm import*\n",
    "import csv\n",
    "from workshop_01 import*"
   ]
  },
  {
   "cell_type": "code",
   "execution_count": 2,
   "metadata": {
    "collapsed": false
   },
   "outputs": [],
   "source": [
    "def stringToFloat(str):\n",
    "    newList=[]\n",
    "    for c in str:\n",
    "        elem = float(c)\n",
    "        newList.append(elem)\n",
    "    return newList"
   ]
  },
  {
   "cell_type": "code",
   "execution_count": null,
   "metadata": {
    "collapsed": false
   },
   "outputs": [],
   "source": [
    "def ggpl_bone_structure(file_name):\n",
    "    palazzo = QUOTE ([0])\n",
    "    with open(file_name,'r') as csvFile:\n",
    "        reader = csv.DictReader(csvFile)\n",
    "        for row in reader: \n",
    "            riga = row['telaio']\n",
    "            l = riga.split(';')\n",
    "            distanzeFacciate = stringToFloat(l[0].split(','))\n",
    "            sezionePil = stringToFloat(l[1].split(','))\n",
    "            sezioneTra = stringToFloat(l[2].split(','))\n",
    "            distanzePil = stringToFloat(l[3].split(','))\n",
    "            altezzePil = stringToFloat(l[4].split(','))\n",
    "            telaio = fun(sezionePil[0],sezionePil[1],sezioneTra[0],sezioneTra[1],distanzePil,altezzePil)\n",
    "            palazzo = STRUCT([palazzo,T([1,2,3])([distanzeFacciate[0],distanzeFacciate[1],distanzeFacciate[2]])(telaio)])\n",
    "    return palazzo"
   ]
  },
  {
   "cell_type": "code",
   "execution_count": null,
   "metadata": {
    "collapsed": false
   },
   "outputs": [],
   "source": [
    "VIEW(ggpl_bone_structure(\"data_frame_438782.csv\"))"
   ]
  },
  {
   "cell_type": "code",
   "execution_count": null,
   "metadata": {
    "collapsed": true
   },
   "outputs": [],
   "source": []
  }
 ],
 "metadata": {
  "kernelspec": {
   "display_name": "Python 2",
   "language": "python",
   "name": "python2"
  },
  "language_info": {
   "codemirror_mode": {
    "name": "ipython",
    "version": 2
   },
   "file_extension": ".py",
   "mimetype": "text/x-python",
   "name": "python",
   "nbconvert_exporter": "python",
   "pygments_lexer": "ipython2",
   "version": "2.7.12"
  }
 },
 "nbformat": 4,
 "nbformat_minor": 1
}
