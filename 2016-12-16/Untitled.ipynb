{
 "cells": [
  {
   "cell_type": "markdown",
   "metadata": {
    "collapsed": false
   },
   "source": [
    "# My Roof\n",
    "\n",
    "[Esempio]\"\""
   ]
  },
  {
   "cell_type": "code",
   "execution_count": 603,
   "metadata": {
    "collapsed": true
   },
   "outputs": [],
   "source": [
    "from pyplasm import*"
   ]
  },
  {
   "cell_type": "code",
   "execution_count": 604,
   "metadata": {
    "collapsed": true
   },
   "outputs": [],
   "source": [
    "def creaPerimetro():\n",
    "    vertici = [[0,0,0],[0,10,0],[10,10,0],[10,20,0],[20,20,0],[20,0,0]]\n",
    "    celle = [[1,2],[2,3],[3,4],[4,5],[5,6],[6,1]]\n",
    "    \n",
    "    #la direzione mi servirà per capire da che parte dovrò inclinare le facciate del tetto.\n",
    "    direzione = ([[0,0,0],[0,10,0],1],[[0,10,0],[10,10,0],-2],[[10,10,0],[10,20,0],1],[[10,20,0],[20,20,0],-2],[[20,20,0],[20,0,0],-1],[[20,0,0],[0,0,0],2])\n",
    "    perimetroBase = MKPOL([vertici,celle,1]);  \n",
    "    return ([perimetroBase,direzione,vertici])"
   ]
  },
  {
   "cell_type": "code",
   "execution_count": 605,
   "metadata": {
    "collapsed": true
   },
   "outputs": [],
   "source": [
    "#con questo metodo dato l'angolo e l'altezza calcolo il valore di quanto dovranno essere inclinate le facciate, ovvero c.\n",
    "def calcolaSpostamento(alfa,altezza):\n",
    "    beta = 180 - alfa - 90\n",
    "    c = altezza * math.tan(beta)\n",
    "    return (c)"
   ]
  },
  {
   "cell_type": "code",
   "execution_count": 610,
   "metadata": {
    "collapsed": false
   },
   "outputs": [],
   "source": [
    "#in questo metodo mi faccio restituire dal precendete il perimetro inferiore del tetto, le direzioni,ed i verticiInferiori\n",
    "def creaTetto(alfa,altezza):\n",
    "    perimetroBase = creaPerimetro()[0]\n",
    "    direzioni = creaPerimetro()[1]\n",
    "    #sono entrambi vertici inferiori ma, all'interno del for, la lista verticiSuperiori verrà aggiornata con i vertici\n",
    "    #del perimetro superiore del tetto.\n",
    "    verticiSuperiori = creaPerimetro()[2]\n",
    "    verticiInferiori = creaPerimetro()[2]\n",
    "    celle = []\n",
    "    c = calcolaSpostamento(alfa,altezza)\n",
    "    j=1\n",
    "    d=[]\n",
    "    vertici2 = []\n",
    "    for v in verticiSuperiori:\n",
    "        dir = []\n",
    "        for d in direzioni:\n",
    "            if d[0] == v:\n",
    "                dir.append(d[2])\n",
    "            if d[1] == v:\n",
    "                dir.append(d[2])\n",
    "                \n",
    "        #ho definito le direzioni come segue:\n",
    "        #d = 1 devo spostarmi sul primo asse del valore c \n",
    "        #d = 2 devo spostarmi sul secondo asse del valore c\n",
    "        #d = -1 devo spostarmi sul primo asse del valore -c\n",
    "        #d = -2 devo spostarmi sul secondo asse del varlore -c\n",
    "        \n",
    "        #piuttosto che traslare ho preferito andare a lavorare direttamente sui valori dei vertici del perimetro inferiore\n",
    "        #andando a spostarli tramite somme e sottrazioni\n",
    "        for d in dir:\n",
    "            if(d==1):\n",
    "                v[0] = v[0]+c\n",
    "            if(d==2):\n",
    "                v[1] = v[1]+c\n",
    "            if(d==-1):\n",
    "                v[0] = v[0]-c\n",
    "            if(d==-2):\n",
    "                v[1] = v[1]-c\n",
    "        #infine il nuovo vertice deve anche essere alzato in base all'altezza del mio tetto\n",
    "        v[2] = v[2] + altezza\n",
    "        #costruisco le celle della nuova lista di vertici (verticiSuperiori)\n",
    "        if(j==len(verticiSuperiori)):\n",
    "            celle.append([j,1])\n",
    "        else: \n",
    "            celle.append([j,j+1])\n",
    "        j = j+1\n",
    "        dir = []\n",
    "    #vado a fare l'mkpol dei vertici superiori per riempire il perimetro superiore del tetto\n",
    "    tettoSuperiore = MKPOL([verticiSuperiori,[[1,2,3,6],[3,4,5,6]],1])\n",
    "    tetto = STRUCT([QUOTE([0])])\n",
    "    j=1\n",
    "    #vado a collegare a due a due i vertici inferiori con i corrispondenrti vertici superiori traslati e creo le facciate\n",
    "    for c in celle:\n",
    "        a = c[0]-1\n",
    "        b = c[1]-1\n",
    "        facciata = MKPOL([[verticiInferiori[a],verticiInferiori[b],verticiSuperiori[b],verticiSuperiori[a]],[[1,2,3,4]],1])\n",
    "        tetto = STRUCT([tetto,facciata])\n",
    " \n",
    "    \n",
    "    tetto = STRUCT([tetto,tettoSuperiore])\n",
    "    tetto = COLOR(Color4f([205/255.,133/255,63/255.,1]))(tetto)\n",
    "    VIEW(tetto)\n",
    "    \n",
    "    "
   ]
  },
  {
   "cell_type": "code",
   "execution_count": 607,
   "metadata": {
    "collapsed": false
   },
   "outputs": [],
   "source": [
    "creaTetto(20,3)"
   ]
  }
 ],
 "metadata": {
  "kernelspec": {
   "display_name": "Python 2",
   "language": "python",
   "name": "python2"
  },
  "language_info": {
   "codemirror_mode": {
    "name": "ipython",
    "version": 2
   },
   "file_extension": ".py",
   "mimetype": "text/x-python",
   "name": "python",
   "nbconvert_exporter": "python",
   "pygments_lexer": "ipython2",
   "version": "2.7.12"
  }
 },
 "nbformat": 4,
 "nbformat_minor": 1
}
