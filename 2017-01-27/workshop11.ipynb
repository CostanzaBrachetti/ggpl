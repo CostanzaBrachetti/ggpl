{
 "cells": [
  {
   "cell_type": "markdown",
   "metadata": {
    "collapsed": false
   },
   "source": [
    "# QUARTIERE\n",
    "\n",
    "Il mio modello di ispirazione è stato [\"Modello\"](https://github.com/CostanzaBrachetti/ggpl/blob/master/immagini/modello.jpg)\n",
    "\n",
    "Su questo mi sono basata più che altro per la costruzione delle strade, per quanto riguarda le strutture ho cercato di alternare case a due piani e case con un singolo piano.\n",
    "Ho inoltre aggiunto al modello di partenza una [\"piscina\"](https://github.com/CostanzaBrachetti/ggpl/blob/master/immagini/piscina.png), una [\"fontana\"](https://github.com/CostanzaBrachetti/ggpl/blob/master/immagini/completo3.png) e un parcheggio (creato grazie ad una texture).  \n",
    "Mi sono basata su un modello semplice, l'idea era quella di rappresentare un quartiere residenziale isolato dalla città composto da villette.\n",
    "\n",
    "[\"Foto dall'alto\"](https://github.com/CostanzaBrachetti/ggpl/blob/master/immagini/fotoAlto.png)\n",
    "\n",
    "[\"Foto\"](https://github.com/CostanzaBrachetti/ggpl/blob/master/immagini/completo5.png)\n",
    "\n",
    "[\"Foto dalla strada\"](https://github.com/CostanzaBrachetti/ggpl/blob/master/immagini/fotoStrada.png)\n",
    "\n",
    "[\"Foto\"](https://github.com/CostanzaBrachetti/ggpl/blob/master/immagini/completo6.png)\n",
    "\n"
   ]
  },
  {
   "cell_type": "code",
   "execution_count": 25,
   "metadata": {
    "collapsed": false
   },
   "outputs": [],
   "source": [
    "from pyplasm import*\n",
    "from larlib import* \n",
    "from workshop_10 import*\n",
    "import csv"
   ]
  },
  {
   "cell_type": "code",
   "execution_count": 26,
   "metadata": {
    "collapsed": true
   },
   "outputs": [],
   "source": [
    "def stringToFloat(str):\n",
    "    l = str.split(',')\n",
    "    newList=[]\n",
    "    for c in l:\n",
    "        elem = float(c)/10.\n",
    "        newList.append(elem)\n",
    "    return newList"
   ]
  },
  {
   "cell_type": "code",
   "execution_count": 27,
   "metadata": {
    "collapsed": true
   },
   "outputs": [],
   "source": [
    "def creaParcheggio():\n",
    "    parcheggio = CUBOID([12,15,0.1])\n",
    "    parcheggio = TEXTURE(\"texture_parcheggio.jpg\")(parcheggio)\n",
    "    return parcheggio"
   ]
  },
  {
   "cell_type": "code",
   "execution_count": 28,
   "metadata": {
    "collapsed": true
   },
   "outputs": [],
   "source": [
    "def creaFontana():\n",
    "    muretto = TUBE([2.45,2.5,1])(30)\n",
    "    pavimento = CIRCLE(2.3)([30,30])\n",
    "    acqua = CIRCLE(2.3)([30,30])\n",
    "    acqua = PROD([acqua,Q(0.7)])\n",
    "    acqua = T(3)(0.1)(acqua)\n",
    "    acqua = TEXTURE(\"texture_acqua.jpg\")(acqua)\n",
    "    muretto = COLOR(Color4f([1,1,240/255.,1]))(muretto)\n",
    "    f = STRUCT([pavimento,muretto,acqua])\n",
    "    f1 = S([1,2,3])([0.6,0.6,0.6])(f)\n",
    "    f1 = T(3)(0.8)(f1)\n",
    "    f2 = S([1,2,3])([0.6,0.6,0.6])(f1)\n",
    "    f2 = T(3)(0.9)(f2)\n",
    "    fontana = STRUCT([f,f1,f2])\n",
    "    return fontana"
   ]
  },
  {
   "cell_type": "code",
   "execution_count": 29,
   "metadata": {
    "collapsed": true
   },
   "outputs": [],
   "source": [
    "def creaPiscina():\n",
    "    base = CUBOID([10,13,0.5])\n",
    "    pavimento = CUBOID([10,13])\n",
    "    acqua = CUBOID([9,12,0.5])\n",
    "    acqua = T([1,2])([0.5,0.5])(acqua)\n",
    "    base = DIFFERENCE([base,acqua])\n",
    "    acqua = CUBOID([9,12,0.3])\n",
    "    acqua = T([1,2,3])([0.5,0.5,0.05])(acqua)\n",
    "    acqua = TEXTURE(\"texture_acqua.jpg\")(acqua)\n",
    "    recinto = CUBOID([14,17,2])\n",
    "    dif = CUBOID([13,16,2])\n",
    "    dif = T([1,2])([0.5,0.5])(dif)\n",
    "    porta = CUBOID([2,2,2])\n",
    "    porta = T(1)(6)(porta)\n",
    "    recinto = DIFFERENCE([recinto,dif])\n",
    "    recinto = DIFFERENCE([recinto,porta])\n",
    "    pavimentoRecinto = CUBOID([14,17,0.1])\n",
    "    pavimentoRecinto = TEXTURE(\"texture_mattonelle.jpg\")(pavimentoRecinto)\n",
    "    piscina = STRUCT([base,acqua,pavimento])\n",
    "    piscina = T([1,2])([2,2])(piscina)\n",
    "    struttura = STRUCT([recinto,piscina,pavimentoRecinto])\n",
    "    return struttura"
   ]
  },
  {
   "cell_type": "code",
   "execution_count": 30,
   "metadata": {
    "collapsed": false
   },
   "outputs": [],
   "source": [
    "def provaCurva(file_name):\n",
    "    curva = STRUCT([QUOTE([0])])\n",
    "    lista = []\n",
    "    with open(file_name,'r') as csvFile:\n",
    "        reader = csv.reader(csvFile, delimiter=' ', quotechar='|')\n",
    "        for row in reader:\n",
    "            l = stringToFloat(row[0])\n",
    "            c = MAP(BEZIER(S1)([[l[0],l[1]],[l[2],l[3]]]))(INTERVALS(1)(5))\n",
    "            curva = STRUCT([curva,c])\n",
    "    curva = OFFSET([2,2])(curva)\n",
    "    return curva"
   ]
  },
  {
   "cell_type": "code",
   "execution_count": 31,
   "metadata": {
    "collapsed": false
   },
   "outputs": [],
   "source": [
    "def main():\n",
    "    prato = CUBOID([80,110,0.3])\n",
    "    curva = provaCurva(\"curve.lines\")\n",
    "    base = CUBOID([80,110,0.5])\n",
    "    base = T(3)(-0.5)(base)\n",
    "    base = TEXTURE([\"textureBase.jpg\",True,False,1,1,0,4,4])(base)\n",
    "    \n",
    "    collegamentoParcheggio = CUBOID([12,4,0.1])\n",
    "    collegamentoParcheggio = T([1,2])([15,24])(collegamentoParcheggio)\n",
    "    collegamentoParcheggio = T(3)(0.2)(collegamentoParcheggio)\n",
    "    collegamentoParcheggio = TEXTURE(\"texturestra.jpg\")(collegamentoParcheggio)\n",
    "    \n",
    "    \n",
    "    prato = TEXTURE([\"texturePrato.jpg\",True,False,1,1,0,30,30])(prato)\n",
    "    curva = PROD([curva,Q(0.1)])\n",
    "    curva = T(3)(0.2)(curva)\n",
    "    curva = TEXTURE([\"texturestra.jpg\",True,False,1,1,0,6,6])(curva)\n",
    "    curva = MATERIAL([58.8,58.8,58.8,1,  0,0,0,1,  0,0,0,1, 0,0,0,1, 1])(curva)\n",
    "    prato = MATERIAL([0,102,0,1,  0,0,0,1,  0,0,0,1, 0,0,0,1, 1])(prato)\n",
    "    \n",
    "    fontana = creaFontana()\n",
    "    fontana = T(3)(0.3)(fontana)\n",
    "    fontana = T([1,2])([33,27])(fontana)\n",
    "    \n",
    "    parcheggio = creaParcheggio()\n",
    "    parcheggio = T(3)(0.3)(parcheggio)\n",
    "    parcheggio = R([1,2])(PI/2)(parcheggio)\n",
    "    parcheggio = T([1,2])([15,19])(parcheggio)\n",
    "    \n",
    "    piscina = creaPiscina()\n",
    "    piscina = T(3)(0.3)(piscina)\n",
    "    piscina = R([1,2])(PI*3/2)(piscina)\n",
    "    piscina = T([1,2])([11,80])(piscina)\n",
    "    \n",
    "    casa = casaUnPiano()\n",
    "    casa = S([1,2,3])([0.3,0.3,0.3])(casa)\n",
    "    casa = T(3)(0.3)(casa)\n",
    "    casa = R([1,2])(PI/2)(casa)\n",
    "    casa = T([1,2])([15,5.5])(casa)\n",
    "    \n",
    "    casa1 = casaDuePiani()\n",
    "    casa1 = S([1,2,3])([0.3,0.3,0.3])(casa1)\n",
    "    casa1 = T(3)(0.3)(casa1)\n",
    "    casa1 = R([1,2])(PI/2)(casa1)\n",
    "    casa1 = T([1,2])([29,5.5])(casa1)\n",
    "    \n",
    "    casa2 = casaDuePiani()\n",
    "    casa2 = S([1,2,3])([0.3,0.3,0.3])(casa2)\n",
    "    casa2 = T(3)(0.3)(casa2)\n",
    "    casa2 = T([1,2])([33,3])(casa2)\n",
    "    \n",
    "    casa7 = casaUnPiano()\n",
    "    casa7 = S([1,2,3])([0.3,0.3,0.3])(casa7)\n",
    "    casa7 = T(3)(0.3)(casa7)\n",
    "    casa7 = R([1,2])(PI/1.4)(casa7)\n",
    "    casa7 = T([1,2])([65,15])(casa7)\n",
    "    \n",
    "    casa3 = casaUnPiano()\n",
    "    casa3 = S([1,2,3])([0.3,0.3,0.3])(casa3)\n",
    "    casa3 = T(3)(0.3)(casa3)\n",
    "    casa3 = R([1,2])(PI*3/2)(casa3)\n",
    "    casa3 = T([1,2])([42,37])(casa3)\n",
    "    \n",
    "    casa4 = casaUnPiano()\n",
    "    casa4 = S([1,2,3])([0.3,0.3,0.3])(casa4)\n",
    "    casa4 = T(3)(0.3)(casa4)\n",
    "    casa4 = R([1,2])(PI*2.9/2)(casa4)\n",
    "    casa4 = T([1,2])([45,61])(casa4)\n",
    "    \n",
    "    casa5 = casaDuePiani()\n",
    "    casa5 = S([1,2,3])([0.3,0.3,0.3])(casa5)\n",
    "    casa5 = T(3)(0.3)(casa5)\n",
    "    casa5 = R([1,2])(PI/10)(casa5)\n",
    "    casa5 = T([1,2])([25,31])(casa5)\n",
    "    \n",
    "    casa6 = casaUnPiano()\n",
    "    casa6 = S([1,2,3])([0.3,0.3,0.3])(casa6)\n",
    "    casa6 = T(3)(0.3)(casa6)\n",
    "    casa6 = R([1,2])(PI/2.3)(casa6)\n",
    "    casa6 = T([1,2])([66,59])(casa6)\n",
    "    \n",
    "    casa8 = casaDuePiani()\n",
    "    casa8 = S([1,2,3])([0.3,0.3,0.3])(casa8)\n",
    "    casa8 = T(3)(0.3)(casa8)\n",
    "    casa8 = R([1,2])(PI*3/2)(casa8)\n",
    "    casa8 = T([1,2])([30,60])(casa8)\n",
    "    \n",
    "    casa9 = casaDuePiani()\n",
    "    casa9 = S([1,2,3])([0.3,0.3,0.3])(casa9)\n",
    "    casa9 = T(3)(0.3)(casa9)\n",
    "    casa9 = R([1,2])(PI/2)(casa9)\n",
    "    casa9 = T([1,2])([50,62])(casa9)\n",
    "    \n",
    "    casa10 = casaUnPiano()\n",
    "    casa10 = S([1,2,3])([0.3,0.3,0.3])(casa10)\n",
    "    casa10 = T(3)(0.3)(casa10)\n",
    "    casa10 = R([1,2])(PI*3/2.3)(casa10)\n",
    "    casa10 = T([1,2])([48,99])(casa10)\n",
    "    \n",
    "    struttura = STRUCT([curva,collegamentoParcheggio,prato,base,parcheggio,fontana,piscina,casa,casa1,casa2,casa3,casa4,casa5,casa6,casa7,casa8,casa9,casa10])\n",
    " \n",
    "    VIEW(struttura)"
   ]
  },
  {
   "cell_type": "code",
   "execution_count": 32,
   "metadata": {
    "collapsed": false
   },
   "outputs": [
    {
     "name": "stdout",
     "output_type": "stream",
     "text": [
      "(28.285715103149414, 28.046682357788086)\n",
      "(28.285715103149414, 28.046682357788086)\n",
      "(28.285715103149414, 28.046682357788086)\n",
      "(28.285715103149414, 28.046682357788086)\n",
      "(28.285715103149414, 28.046682357788086)\n"
     ]
    }
   ],
   "source": [
    "main()"
   ]
  }
 ],
 "metadata": {
  "kernelspec": {
   "display_name": "Python 2",
   "language": "python",
   "name": "python2"
  },
  "language_info": {
   "codemirror_mode": {
    "name": "ipython",
    "version": 2
   },
   "file_extension": ".py",
   "mimetype": "text/x-python",
   "name": "python",
   "nbconvert_exporter": "python",
   "pygments_lexer": "ipython2",
   "version": "2.7.12"
  }
 },
 "nbformat": 4,
 "nbformat_minor": 1
}
