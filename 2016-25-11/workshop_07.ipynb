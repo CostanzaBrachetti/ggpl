{
 "cells": [
  {
   "cell_type": "markdown",
   "metadata": {
    "collapsed": false
   },
   "source": [
    "# Design of doors and windows\n",
    "\n",
    "[\"Questa è l'immagine di riferimento della finestra scorrevole\"](http://www.archiproducts.com/it/prodotti/73414/lignatec-alzante-scorrevole-pvc-legno-alluminio-lignatec-porta-finestra-alzante-scorrevole-finstral.html)\n",
    "\n",
    "[\"Questa è l'immagine di riferimento della finestra fissa\"](https://www.google.it/search?q=finestra&tbm=isch&tbs=rimg:CZVH4-b2ls1gIjguns6SZeuMuzwioHc7JYyp026US-V1RFUH70G-biEgxFZ_1snn4SuIQohpqTHXcUBJQTla0owZYJSoSCS6ezpJl64y7EfRLLFSYZJ2zKhIJPCKgdzsljKkRY5Vx78pB1bAqEgnTbpRL5XVEVRF7jb4o6LUoHioSCQfvQb5uISDEEQCTJIOm2-42KhIJVn-yefhK4hARi0gdBA7hZBkqEgmiGmpMddxQEhEmdAnim-tAvioSCVBOVrSjBlglEZcPz4MDC9aZ&tbo=u#imgrc=Dz6L3qnPXrlylM%3A)\n",
    "\n",
    "Ho implementato tre metodi distinti che condividono lo stesso metodo per la creazione della struttura, ovvero il creaStruttura(), che date le 3 liste di coordinate e la lista delle celle riempita crea la struttura riempiendo le celle (legno e vetro).\n",
    "Il riempimento delle celle varia a seconda della struttura che si vuole, infatti sono presenti 3 esempi di riempimento delle celle sulla base dell'oggetto finale che si vuole ottenere. \n",
    "Il metodo trovaVertice() prende il valore di un vertice sull'asse x e z e le due liste dx e dz, tramite questi parametri calcola tutti i vertici della cella d'interesse e li restituisce al metodo creaStruttura(), il quale li utilizza per creare la cella e riempirla a dovere. \n",
    "\n",
    "NB. Nella cartella sono presenti le immagini di una porta e delle due finestre costruite da me. "
   ]
  },
  {
   "cell_type": "code",
   "execution_count": 45,
   "metadata": {
    "collapsed": false
   },
   "outputs": [],
   "source": [
    "from pyplasm import*"
   ]
  },
  {
   "cell_type": "code",
   "execution_count": 46,
   "metadata": {
    "collapsed": false
   },
   "outputs": [],
   "source": [
    "def riempiCelleFinestraScorrevole(celle):\n",
    "    #serve a riempire le celle della matrice in base alla finestra che si vuole \n",
    "    #queste sono le celle pensate per la finestra scorrevole, riporto in un file a parte le celle per la finestra fissa a croce\n",
    "    \n",
    "    celle[0][0] = 0\n",
    "    celle[0][1] = 0\n",
    "    celle[0][2] = 0\n",
    "    celle[0][3] = 0\n",
    "    \n",
    "    celle[1][0] = 0\n",
    "    celle[1][1] = 1\n",
    "    celle[1][2] = 1\n",
    "    celle[1][3] = 1\n",
    "    \n",
    "    celle[2][0] = 0\n",
    "    celle[2][1] = 1\n",
    "    celle[2][2] = 0\n",
    "    celle[2][3] = 1\n",
    "    \n",
    "    celle[3][0] = 0\n",
    "    celle[3][1] = 1\n",
    "    celle[3][2] = 1\n",
    "    celle[3][3] = 1\n",
    "        \n",
    "    return celle "
   ]
  },
  {
   "cell_type": "code",
   "execution_count": 47,
   "metadata": {
    "collapsed": true
   },
   "outputs": [],
   "source": [
    "def riempiCellePorta(celle):\n",
    "    \n",
    "    celle[0][0] = 0\n",
    "    celle[0][1] = 0\n",
    "    celle[0][2] = 0\n",
    "    celle[0][3] = 0\n",
    "    \n",
    "    celle[1][0] = 0\n",
    "    celle[1][1] = 1\n",
    "    celle[1][2] = 1\n",
    "    celle[1][3] = 1\n",
    "    \n",
    "    celle[2][0] = 0\n",
    "    celle[2][1] = 1\n",
    "    celle[2][2] = 0\n",
    "    celle[2][3] = 1\n",
    "    \n",
    "    celle[3][0] = 0\n",
    "    celle[3][1] = 1\n",
    "    celle[3][2] = 1\n",
    "    celle[3][3] = 1\n",
    "    \n",
    "    return celle"
   ]
  },
  {
   "cell_type": "code",
   "execution_count": 48,
   "metadata": {
    "collapsed": true
   },
   "outputs": [],
   "source": [
    "def riempiCelleFinestraFissa(celle):\n",
    "    \n",
    "    celle[0][0] = 0\n",
    "    celle[0][1] = 0\n",
    "    celle[0][2] = 0\n",
    "    celle[0][3] = 0\n",
    "    celle[0][4] = 0\n",
    "    celle[0][5] = 0\n",
    "    \n",
    "    celle[1][0] = 0\n",
    "    celle[1][1] = 1\n",
    "    celle[1][2] = 1\n",
    "    celle[1][3] = 1\n",
    "    celle[1][4] = 1\n",
    "    celle[1][5] = 1\n",
    "    \n",
    "    celle[2][0] = 0\n",
    "    celle[2][1] = 1\n",
    "    celle[2][2] = 0\n",
    "    celle[2][3] = 1\n",
    "    celle[2][4] = 0\n",
    "    celle[2][5] = 1\n",
    "    \n",
    "    celle[3][0] = 0\n",
    "    celle[3][1] = 1\n",
    "    celle[3][2] = 1\n",
    "    celle[3][3] = 1\n",
    "    celle[3][4] = 1\n",
    "    celle[3][5] = 1\n",
    "    \n",
    "    celle[4][0] = 0\n",
    "    celle[4][1] = 1\n",
    "    celle[4][2] = 0\n",
    "    celle[4][3] = 1\n",
    "    celle[4][4] = 0\n",
    "    celle[4][5] = 1\n",
    "    \n",
    "    celle[5][0] = 0\n",
    "    celle[5][1] = 1\n",
    "    celle[5][2] = 1\n",
    "    celle[5][3] = 1\n",
    "    celle[5][4] = 1\n",
    "    celle[5][5] = 1\n",
    "    \n",
    "    return celle"
   ]
  },
  {
   "cell_type": "code",
   "execution_count": 49,
   "metadata": {
    "collapsed": false
   },
   "outputs": [],
   "source": [
    "def trovaVertice(x,z,lineeV,lineeO):\n",
    "    ver=[]\n",
    "    \n",
    "    ver.append([x,0,z])\n",
    "    \n",
    "    for i in range(0,len(lineeV)):\n",
    "        if lineeV[i] == x:\n",
    "            ver1 = lineeV[i-1]\n",
    "\n",
    "    for j in range(0,len(lineeO)):\n",
    "        if lineeO[j] == z:\n",
    "            ver2 = lineeO[j-1]\n",
    "            \n",
    "    ver.append([x,0,ver2])       \n",
    "    ver.append([ver1,0,ver2])\n",
    "    ver.append([ver1,0,z])\n",
    "    return(ver)"
   ]
  },
  {
   "cell_type": "code",
   "execution_count": 50,
   "metadata": {
    "collapsed": true
   },
   "outputs": [],
   "source": [
    "def lunghezzaCella(lista):\n",
    "    l = []\n",
    "    for i in range(len(lista)):\n",
    "        l.append(i+1)\n",
    "    return l"
   ]
  },
  {
   "cell_type": "code",
   "execution_count": 51,
   "metadata": {
    "collapsed": true
   },
   "outputs": [],
   "source": [
    "def creaStruttura(lineeV,dy,lineeO,celle):\n",
    "    struttura = STRUCT([QUOTE([0])])\n",
    "    \n",
    "    for i in range(1,len(lineeV)):\n",
    "        for j in range(1,len(lineeO)):\n",
    "            verticiCella = trovaVertice(lineeV[i],lineeO[j],lineeV,lineeO)\n",
    "            if celle[i][j]==1:\n",
    "                listaCelle = lunghezzaCella(verticiCella)\n",
    "                riempimentoCella = MKPOL([verticiCella,[listaCelle],1])\n",
    "                riempimentoCella = OFFSET([0,0.1,0])(riempimentoCella)\n",
    "                riempimentoCella = COLOR(Color4f([210/255.,180/255.,140/255.,1]))(riempimentoCella)\n",
    "                struttura = STRUCT([struttura,riempimentoCella])\n",
    "            if celle[i][j]==0:\n",
    "                listaCelle = lunghezzaCella(verticiCella)\n",
    "                riempimentoCella = MKPOL([verticiCella,[listaCelle],1])\n",
    "                riempimentoCella = OFFSET([0,0.05,0])(riempimentoCella)\n",
    "                riempimentoCella = T(2)(0.025)(riempimentoCella)\n",
    "                riempimentoCella = COLOR(Color4f([0,1,1,0.1]))(riempimentoCella)\n",
    "                struttura = STRUCT([struttura,riempimentoCella])\n",
    "    return struttura        "
   ]
  },
  {
   "cell_type": "code",
   "execution_count": 52,
   "metadata": {
    "collapsed": true
   },
   "outputs": [],
   "source": [
    "def creaFinestraScorrevole(dx,dy,dz):\n",
    "    lineeV = []\n",
    "    somma = 0\n",
    "    for x in dx:\n",
    "        somma = somma+x\n",
    "        lineeV.append(somma)\n",
    "      \n",
    "    somma = 0 \n",
    "    lineeO = []\n",
    "    for z in dz:\n",
    "        somma = somma+z\n",
    "        lineeO.append(somma)\n",
    "        \n",
    "    celleVuote = [[0 for i in range(len(lineeV))] for j in range(len(lineeO))]\n",
    "\n",
    "    celle = riempiCelleFinestraScorrevole(celleVuote)\n",
    "    struttura = creaStruttura(lineeV,dy,lineeO,celle)\n",
    "    spost = sum(dx)\n",
    "    strutt = STRUCT([struttura,T([1,2])([spost-0.35,0.1])(struttura)])\n",
    "    spazioBase = CUBOID([spost*2,0.2,0.05])\n",
    "    strutt = T(3)(0.05)(strutt)\n",
    "    strutt = STRUCT([strutt,spazioBase])\n",
    "    VIEW(strutt)"
   ]
  },
  {
   "cell_type": "code",
   "execution_count": 53,
   "metadata": {
    "collapsed": true
   },
   "outputs": [],
   "source": [
    "def creaFinestraFissa(dx,dy,dz):\n",
    "    lineeV = []\n",
    "    somma = 0\n",
    "    for x in dx:\n",
    "        somma = somma+x\n",
    "        lineeV.append(somma)\n",
    "      \n",
    "    somma = 0 \n",
    "    lineeO = []\n",
    "    for z in dz:\n",
    "        somma = somma+z\n",
    "        lineeO.append(somma)\n",
    "        \n",
    "    celleVuote = [[0 for i in range(len(lineeV))] for j in range(len(lineeO))]\n",
    "    \n",
    "    celle = riempiCelleFinestraFissa(celleVuote)\n",
    "    finestraFissa = creaStruttura(lineeV,dy,lineeO,celle)\n",
    "    VIEW(finestraFissa)"
   ]
  },
  {
   "cell_type": "code",
   "execution_count": 54,
   "metadata": {
    "collapsed": true
   },
   "outputs": [],
   "source": [
    "def creaPorta(dx,dy,dz):\n",
    "    lineeV = []\n",
    "    somma = 0\n",
    "    for x in dx:\n",
    "        somma = somma+x\n",
    "        lineeV.append(somma)\n",
    "      \n",
    "    somma = 0 \n",
    "    lineeO = []\n",
    "    for z in dz:\n",
    "        somma = somma+z\n",
    "        lineeO.append(somma)\n",
    "        \n",
    "    celleVuote = [[0 for i in range(len(lineeV))] for j in range(len(lineeO))]\n",
    "    celle = riempiCellePorta(celleVuote)\n",
    "    porta = creaStruttura(lineeV,dy,lineeO,celle)\n",
    "    pomello = SPHERE(0.05)([20,20])\n",
    "    pomello = T([1,2,3])([0.2,0.15,1.1])(pomello)\n",
    "    pomello = COLOR(Color4f([192/255.,64/255.,0,1]))(pomello)\n",
    "    porta = STRUCT([porta,pomello])\n",
    "    VIEW(porta)"
   ]
  },
  {
   "cell_type": "code",
   "execution_count": 55,
   "metadata": {
    "collapsed": false
   },
   "outputs": [],
   "source": [
    "#creaFinestraScorrevole([0,0.15,1,0.1],[0],[0,0.1,1.8,0.1]) \n",
    "creaFinestraFissa([0,0.1,0.5,0.1,0.5,0.1],[0],[0,0.1,1,0.1,1,0.1])\n",
    "#creaPorta([0,0.3,0.6,0.3],[0],[0,1.35,0.6,0.2]) "
   ]
  }
 ],
 "metadata": {
  "kernelspec": {
   "display_name": "Python 2",
   "language": "python",
   "name": "python2"
  },
  "language_info": {
   "codemirror_mode": {
    "name": "ipython",
    "version": 2
   },
   "file_extension": ".py",
   "mimetype": "text/x-python",
   "name": "python",
   "nbconvert_exporter": "python",
   "pygments_lexer": "ipython2",
   "version": "2.7.12"
  }
 },
 "nbformat": 4,
 "nbformat_minor": 1
}
