{
 "cells": [
  {
   "cell_type": "markdown",
   "metadata": {},
   "source": [
    "<TITOLO>"
   ]
  },
  {
   "cell_type": "markdown",
   "metadata": {},
   "source": [
    "# MY STAIR TYPE"
   ]
  },
  {
   "cell_type": "markdown",
   "metadata": {},
   "source": [
    "![Link all'immagine di riferimento](http://st.hzcdn.com/fimgs/ede16770056daef1_9913-w400-h500-b0-p0--contemporaneo-scale.jpg\n)",
    " "
   ]
  },
  {
   "cell_type": "markdown",
   "metadata": {},
   "source": [
    "La funzione principale costruisce inizialmente la parete sulla quale le scale si andranno ad appoggiare. Successivamente viene calcolata la pedata sulla base di un'altezza standard dello scalino, settata a 0.15, valore che tiene in considerazione non solo l'altezza propria dello scalino ma anche lo spazio che si trova fra uno scalino e il successivo. E sulla base dell'altezza e della lunghezza della scala. Viene costruito il singolo scalino e richiamata una funzione per la costruzione della scala, tale funzione prende in input lo scalino, l'altezza della scala, e la pedata. \n",
    "Per prima cosa questa funzione definisce la struttura scala, e iterando all'interno di un while, costruisce un gradino alla volta (che rispetti i parametri che sono stati calcolati nella precedente funzione) e lo va ad inserire all'interno della struttura, fino a che l'altezza della struttura non superi quella passata in input."
   ]
  },
  {
   "cell_type": "code",
   "execution_count": 9,
   "metadata": {
    "collapsed": false
   },
   "outputs": [],
   "source": [
    "from pyplasm import*\n",
    "from math import*"
   ]
  },
  {
   "cell_type": "code",
   "execution_count": 10,
   "metadata": {
    "collapsed": false
   },
   "outputs": [],
   "source": [
    "def costrScala(scalino,dz,pedata):\n",
    "    scala = STRUCT([scalino])\n",
    "    altezza = 0.15 \n",
    "    profondita = 0\n",
    "    while altezza<dz:\n",
    "        profondita = profondita + pedata\n",
    "        newScalino = T([2,3])([profondita,altezza])(scalino)\n",
    "        scala = STRUCT([scala,newScalino])\n",
    "        altezza = altezza + 0.15\n",
    "    return scala    "
   ]
  },
  {
   "cell_type": "code",
   "execution_count": 11,
   "metadata": {
    "collapsed": false
   },
   "outputs": [],
   "source": [
    "def ggpl_My_Stair_Type(dx,dy,dz):\n",
    "    piano = PROD([PROD([QUOTE([0.2]),QUOTE([dy])]),QUOTE([dz])])\n",
    "    pedata = (0.15*dy)/dz\n",
    "    numeroScalini = dy/pedata\n",
    "    scalino = PROD([PROD([QUOTE([dx]),QUOTE([pedata])]),QUOTE([0.10])])\n",
    "    scala = costrScala(scalino,dz,pedata)\n",
    "    strutturaFinale = STRUCT([scala,piano])\n",
    "    VIEW(strutturaFinale)\n",
    "    "
   ]
  },
  {
   "cell_type": "code",
   "execution_count": 12,
   "metadata": {
    "collapsed": false
   },
   "outputs": [],
   "source": [
    "ggpl_My_Stair_Type(1,6,5)"
   ]
  }
 ],
 "metadata": {
  "kernelspec": {
   "display_name": "Python 2",
   "language": "python",
   "name": "python2"
  },
  "language_info": {
   "codemirror_mode": {
    "name": "ipython",
    "version": 2
   },
   "file_extension": ".py",
   "mimetype": "text/x-python",
   "name": "python",
   "nbconvert_exporter": "python",
   "pygments_lexer": "ipython2",
   "version": "2.7.12"
  }
 },
 "nbformat": 4,
 "nbformat_minor": 1
}
